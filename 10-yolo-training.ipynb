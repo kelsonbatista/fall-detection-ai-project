{
 "cells": [
  {
   "cell_type": "code",
   "execution_count": 2,
   "id": "d72d7ada-2fb1-4ccf-90a5-1a15da791b0f",
   "metadata": {
    "editable": true,
    "slideshow": {
     "slide_type": ""
    },
    "tags": []
   },
   "outputs": [],
   "source": [
    "from ultralytics import YOLO"
   ]
  },
  {
   "cell_type": "code",
   "execution_count": null,
   "id": "c2c46814-351f-4155-bd48-bd4e48919299",
   "metadata": {},
   "outputs": [],
   "source": [
    "### Script YOLOv11 Training\n",
    "# Path to dataset and yaml\n",
    "dataset_path = \"/home/kelson/Projects/dataset/\"\n",
    "data_yaml = dataset_path + \"data.yaml\"\n",
    "model_path = dataset_path + \"yolo11n-pose.pt\" #nano\n",
    "\n",
    "# Loading of pre-trained model YOLOv11\n",
    "model = YOLO(model_path)\n",
    "\n",
    "# Model traininig YOLOv11\n",
    "results = model.train(\n",
    "    data=data_yaml,\n",
    "    epochs=100,\n",
    "    imgsz=640,\n",
    "    batch=16,\n",
    "    project=\"fall_detect_yolo11n_pose_balanced\",\n",
    "    name=\"yolo11n_pose_train\",\n",
    "    workers=4,\n",
    "    amp=True,\n",
    "    cache=True,\n",
    "    device='0'\n",
    ")"
   ]
  }
 ],
 "metadata": {
  "kernelspec": {
   "display_name": "Python 3 (ipykernel)",
   "language": "python",
   "name": "python3"
  },
  "language_info": {
   "codemirror_mode": {
    "name": "ipython",
    "version": 3
   },
   "file_extension": ".py",
   "mimetype": "text/x-python",
   "name": "python",
   "nbconvert_exporter": "python",
   "pygments_lexer": "ipython3",
   "version": "3.12.2"
  }
 },
 "nbformat": 4,
 "nbformat_minor": 5
}
