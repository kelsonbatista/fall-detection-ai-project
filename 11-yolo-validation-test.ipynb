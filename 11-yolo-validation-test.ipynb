{
 "cells": [
  {
   "cell_type": "code",
   "execution_count": 2,
   "id": "d72d7ada-2fb1-4ccf-90a5-1a15da791b0f",
   "metadata": {
    "editable": true,
    "slideshow": {
     "slide_type": ""
    },
    "tags": []
   },
   "outputs": [],
   "source": [
    "from ultralytics import YOLO\n",
    "import torch"
   ]
  },
  {
   "cell_type": "code",
   "execution_count": 4,
   "id": "a88c6179-2db2-48f0-a8a2-306baa2eaf2a",
   "metadata": {},
   "outputs": [],
   "source": [
    "# Se estiver usando GPU\n",
    "device = torch.device(\"cuda\" if torch.cuda.is_available() else \"cpu\")"
   ]
  },
  {
   "cell_type": "code",
   "execution_count": 12,
   "id": "c2c46814-351f-4155-bd48-bd4e48919299",
   "metadata": {},
   "outputs": [
    {
     "name": "stdout",
     "output_type": "stream",
     "text": [
      "Ultralytics 8.3.180 🚀 Python-3.12.2 torch-2.7.1+cu118 CPU (Intel Core(TM) i7-7500U 2.70GHz)\n",
      "YOLO11n-pose summary (fused): 109 layers, 2,888,431 parameters, 0 gradients, 7.5 GFLOPs\n",
      "\u001b[34m\u001b[1mval: \u001b[0mFast image access ✅ (ping: 0.0±0.0 ms, read: 3977.6±2261.9 MB/s, size: 333.3 KB)\n"
     ]
    },
    {
     "name": "stderr",
     "output_type": "stream",
     "text": [
      "\u001b[34m\u001b[1mval: \u001b[0mScanning /home/kelson/Projects/MBA/TCC/fall_detection/experiment1/dataset-xxx/fall50/datasets7-pose/pose-val-test/labels/val/0.cache... 7522 images\u001b[0m\n",
      "/home/kelson/anaconda3/lib/python3.12/site-packages/torch/cuda/__init__.py:789: UserWarning: Can't initialize NVML\n",
      "  warnings.warn(\"Can't initialize NVML\")\n",
      "/home/kelson/anaconda3/lib/python3.12/site-packages/torch/utils/data/dataloader.py:665: UserWarning: 'pin_memory' argument is set as true but no accelerator is found, then device pinned memory won't be used.\n",
      "  warnings.warn(warn_msg)\n",
      "                 Class     Images  Instances      Box(P          R      mAP50  mAP50-95)     Pose(P          R      mAP50  mAP50-95): 100%|██████████| 4\n"
     ]
    },
    {
     "name": "stdout",
     "output_type": "stream",
     "text": [
      "                   all       7522       7522       0.77      0.739       0.73      0.503      0.588      0.514      0.446      0.155\n",
      "               no_fall       5425       5425       0.95       0.94      0.961      0.736      0.825      0.806      0.781      0.285\n",
      "                  fall       1631       1631      0.839      0.857      0.822       0.45      0.417       0.41      0.244     0.0419\n",
      "             attention        466        466      0.522      0.418      0.407      0.322      0.521      0.324      0.314       0.14\n",
      "Speed: 0.9ms preprocess, 90.4ms inference, 0.0ms loss, 1.1ms postprocess per image\n",
      "Saving results/fall_detect_yolo11n_pose_balanced/yolo11n_pose_val/predictions.json...\n",
      "Results saved to \u001b[1mresults/fall_detect_yolo11n_pose_balanced/yolo11n_pose_val\u001b[0m\n",
      "Validation finished.\n"
     ]
    }
   ],
   "source": [
    "### Script YOLOv11 Validation\n",
    "# Path to the trained model\n",
    "model_path = \"results/fall_detect_yolo11n_pose_balanced/yolo11n_pose_train/weights/best.pt\"\n",
    "project_path = \"results/fall_detect_yolo11n_pose_balanced\"\n",
    "run_name = \"yolo11n_pose_val\"\n",
    "data_yaml = \"pose-val-test/data.yaml\"\n",
    "\n",
    "# Loading of trained model\n",
    "model = YOLO(model_path)\n",
    "\n",
    "# Model validation\n",
    "metrics = model.val(\n",
    "    data=data_yaml,  # Dataset de validação embutido no YOLO\n",
    "    verbose=True,     # Exibe logs detalhados\n",
    "    plots=True,       # Gera gráficos de precisão/recall por classe\n",
    "    save_json=True,   # Salva métricas detalhadas em JSON\n",
    "    split=\"val\",\n",
    "    project=project_path,\n",
    "    name=run_name\n",
    ")\n",
    "\n",
    "print(\"Validation finished.\")"
   ]
  },
  {
   "cell_type": "code",
   "execution_count": null,
   "id": "32003029-e126-4052-a28e-fc259cedc79d",
   "metadata": {},
   "outputs": [],
   "source": []
  },
  {
   "cell_type": "code",
   "execution_count": 15,
   "id": "68cc14dd-9319-498b-9f2d-7e83e08052e2",
   "metadata": {},
   "outputs": [
    {
     "name": "stdout",
     "output_type": "stream",
     "text": [
      "Ultralytics 8.3.180 🚀 Python-3.12.2 torch-2.7.1+cu118 CPU (Intel Core(TM) i7-7500U 2.70GHz)\n",
      "YOLO11n-pose summary (fused): 109 layers, 2,888,431 parameters, 0 gradients, 7.5 GFLOPs\n",
      "\u001b[34m\u001b[1mval: \u001b[0mFast image access ✅ (ping: 0.8±0.4 ms, read: 161.9±12.1 MB/s, size: 252.8 KB)\n"
     ]
    },
    {
     "name": "stderr",
     "output_type": "stream",
     "text": [
      "\u001b[34m\u001b[1mval: \u001b[0mScanning /home/kelson/Projects/MBA/TCC/fall_detection/experiment1/dataset-xxx/fall50/datasets7-pose/pose-val-test/labels/test/0... 9711 images, 0 b\u001b[0m\n"
     ]
    },
    {
     "name": "stdout",
     "output_type": "stream",
     "text": [
      "\u001b[34m\u001b[1mval: \u001b[0mNew cache created: /home/kelson/Projects/MBA/TCC/fall_detection/experiment1/dataset-xxx/fall50/datasets7-pose/pose-val-test/labels/test/0.cache\n"
     ]
    },
    {
     "name": "stderr",
     "output_type": "stream",
     "text": [
      "/home/kelson/anaconda3/lib/python3.12/site-packages/torch/cuda/__init__.py:789: UserWarning: Can't initialize NVML\n",
      "  warnings.warn(\"Can't initialize NVML\")\n",
      "/home/kelson/anaconda3/lib/python3.12/site-packages/torch/utils/data/dataloader.py:665: UserWarning: 'pin_memory' argument is set as true but no accelerator is found, then device pinned memory won't be used.\n",
      "  warnings.warn(warn_msg)\n",
      "                 Class     Images  Instances      Box(P          R      mAP50  mAP50-95)     Pose(P          R      mAP50  mAP50-95): 100%|██████████| 6\n"
     ]
    },
    {
     "name": "stdout",
     "output_type": "stream",
     "text": [
      "                   all       9711       9711      0.713      0.704      0.663      0.447      0.515      0.471      0.396      0.143\n",
      "               no_fall       7966       7966      0.984      0.844      0.958      0.721      0.835       0.71      0.745      0.315\n",
      "                  fall       1330       1330      0.666      0.823      0.642      0.328      0.265      0.322       0.12     0.0186\n",
      "             attention        415        415      0.489      0.443       0.39      0.291      0.444       0.38      0.324      0.096\n",
      "Speed: 2.2ms preprocess, 103.4ms inference, 0.0ms loss, 1.5ms postprocess per image\n",
      "Saving results/fall_detect_yolo11n_pose_balanced/yolo11n_pose_test/predictions.json...\n",
      "Results saved to \u001b[1mresults/fall_detect_yolo11n_pose_balanced/yolo11n_pose_test\u001b[0m\n",
      "Test finished.\n"
     ]
    }
   ],
   "source": [
    "### Script YOLOv11 Test\n",
    "# Path to the trained model\n",
    "model_path = \"results/fall_detect_yolo11n_pose_balanced/yolo11n_pose_train/weights/best.pt\"\n",
    "project_path = \"results/fall_detect_yolo11n_pose_balanced\"\n",
    "run_name = \"yolo11n_pose_test\"\n",
    "data_yaml = \"pose-val-test/data.yaml\"\n",
    "\n",
    "# Loading of trained model\n",
    "model = YOLO(model_path)\n",
    "\n",
    "# Model test\n",
    "metrics = model.val(\n",
    "    data=data_yaml,  # Dataset de validação embutido no YOLO\n",
    "    verbose=True,     # Exibe logs detalhados\n",
    "    plots=True,       # Gera gráficos de precisão/recall por classe\n",
    "    save_json=True,   # Salva métricas detalhadas em JSON\n",
    "    split=\"test\",\n",
    "    project=project_path,\n",
    "    name=run_name\n",
    ")\n",
    "\n",
    "print(\"Test finished.\")"
   ]
  },
  {
   "cell_type": "code",
   "execution_count": null,
   "id": "ac04c0ed-ed39-487c-81fd-e5284af291b4",
   "metadata": {},
   "outputs": [],
   "source": []
  }
 ],
 "metadata": {
  "kernelspec": {
   "display_name": "Python 3 (ipykernel)",
   "language": "python",
   "name": "python3"
  },
  "language_info": {
   "codemirror_mode": {
    "name": "ipython",
    "version": 3
   },
   "file_extension": ".py",
   "mimetype": "text/x-python",
   "name": "python",
   "nbconvert_exporter": "python",
   "pygments_lexer": "ipython3",
   "version": "3.12.2"
  }
 },
 "nbformat": 4,
 "nbformat_minor": 5
}
