{
 "cells": [
  {
   "cell_type": "code",
   "execution_count": 2,
   "id": "d72d7ada-2fb1-4ccf-90a5-1a15da791b0f",
   "metadata": {
    "editable": true,
    "slideshow": {
     "slide_type": ""
    },
    "tags": []
   },
   "outputs": [],
   "source": [
    "from ultralytics import YOLO"
   ]
  },
  {
   "cell_type": "code",
   "execution_count": 4,
   "id": "a88c6179-2db2-48f0-a8a2-306baa2eaf2a",
   "metadata": {},
   "outputs": [],
   "source": [
    "# Se estiver usando GPU\n",
    "device = torch.device(\"cuda\" if torch.cuda.is_available() else \"cpu\")"
   ]
  },
  {
   "cell_type": "code",
   "execution_count": null,
   "id": "c2c46814-351f-4155-bd48-bd4e48919299",
   "metadata": {},
   "outputs": [],
   "source": [
    "### Script YOLOv8 Training\n",
    "# Caminho para o dataset e yaml\n",
    "dataset_path = \"/home/kelson/Projects/pose/\"\n",
    "data_yaml = dataset_path + \"data.yaml\"\n",
    "model_path = dataset_path + \"yolo11n-pose.pt\"\n",
    "\n",
    "# Carregar modelo pré-treinado YOLOv8 nano (ou outro)\n",
    "model = YOLO(model_path)  # ou yolov8s.pt, yolov8m.pt conforme o hardware\n",
    "\n",
    "# Treinamento do modelo YOLOv8\n",
    "results = model.train(\n",
    "    data=data_yaml,\n",
    "    epochs=100,\n",
    "    imgsz=640,\n",
    "    batch=16,\n",
    "    project=\"fall_detect_yolo11n_pose_aug\",\n",
    "    name=\"yolo11n_pose\",\n",
    "    workers=4,\n",
    "    amp=True,\n",
    "    cache=True,\n",
    "    device='0',\n",
    "    # Cores / iluminação\n",
    "    hsv_h=0.015, hsv_s=0.1, hsv_v=0.1, bgr=0.1,\n",
    "    # Geométricos\n",
    "    degrees=5.0, translate=0.1, shear=2.0, perspective=0.001,\n",
    "    # Composições\n",
    "    mosaic=0.2, mixup=0.3, erasing=0.1\n",
    ")"
   ]
  }
 ],
 "metadata": {
  "kernelspec": {
   "display_name": "Python 3 (ipykernel)",
   "language": "python",
   "name": "python3"
  },
  "language_info": {
   "codemirror_mode": {
    "name": "ipython",
    "version": 3
   },
   "file_extension": ".py",
   "mimetype": "text/x-python",
   "name": "python",
   "nbconvert_exporter": "python",
   "pygments_lexer": "ipython3",
   "version": "3.12.2"
  }
 },
 "nbformat": 4,
 "nbformat_minor": 5
}
